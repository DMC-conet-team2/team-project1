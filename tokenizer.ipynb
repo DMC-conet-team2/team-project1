{
 "cells": [
  {
   "cell_type": "code",
   "execution_count": 1,
   "id": "31abf835",
   "metadata": {},
   "outputs": [
    {
     "name": "stdout",
     "output_type": "stream",
     "text": [
      "^C\n",
      "Note: you may need to restart the kernel to use updated packages.\n"
     ]
    }
   ],
   "source": [
    "%pip uninstall torch"
   ]
  },
  {
   "cell_type": "code",
   "execution_count": 1,
   "id": "494922d0",
   "metadata": {},
   "outputs": [
    {
     "name": "stderr",
     "output_type": "stream",
     "text": [
      " 13%|█▎        | 7835/58911 [00:00<00:04, 12395.34it/s]"
     ]
    },
    {
     "name": "stdout",
     "output_type": "stream",
     "text": [
      "❗ Error in file ckmk_d_bm_f_n_178194.json: Invalid control character at: line 23 column 135 (char 755)\n",
      "❗ Error in file ckmk_d_bm_f_n_269424.json: Invalid control character at: line 23 column 571 (char 1132)\n"
     ]
    },
    {
     "name": "stderr",
     "output_type": "stream",
     "text": [
      " 16%|█▋        | 9584/58911 [00:00<00:03, 12628.87it/s]\n"
     ]
    },
    {
     "ename": "KeyboardInterrupt",
     "evalue": "",
     "output_type": "error",
     "traceback": [
      "\u001b[31m---------------------------------------------------------------------------\u001b[39m",
      "\u001b[31mKeyboardInterrupt\u001b[39m                         Traceback (most recent call last)",
      "\u001b[36mCell\u001b[39m\u001b[36m \u001b[39m\u001b[32mIn[1]\u001b[39m\u001b[32m, line 19\u001b[39m\n\u001b[32m     15\u001b[39m     \u001b[38;5;28;01mcontinue\u001b[39;00m\n\u001b[32m     17\u001b[39m fpath = os.path.join(json_dir, fname)\n\u001b[32m---> \u001b[39m\u001b[32m19\u001b[39m \u001b[38;5;28;01mwith\u001b[39;00m \u001b[38;5;28;43mopen\u001b[39;49m\u001b[43m(\u001b[49m\u001b[43mfpath\u001b[49m\u001b[43m,\u001b[49m\u001b[43m \u001b[49m\u001b[33;43m\"\u001b[39;49m\u001b[33;43mr\u001b[39;49m\u001b[33;43m\"\u001b[39;49m\u001b[43m,\u001b[49m\u001b[43m \u001b[49m\u001b[43mencoding\u001b[49m\u001b[43m=\u001b[49m\u001b[33;43m\"\u001b[39;49m\u001b[33;43mutf-8\u001b[39;49m\u001b[33;43m\"\u001b[39;49m\u001b[43m)\u001b[49m \u001b[38;5;28;01mas\u001b[39;00m f:\n\u001b[32m     20\u001b[39m     \u001b[38;5;28;01mtry\u001b[39;00m:\n\u001b[32m     21\u001b[39m         data = json.load(f)\n",
      "\u001b[36mFile \u001b[39m\u001b[32mc:\\Users\\conet\\miniforge3\\envs\\myenv\\Lib\\site-packages\\IPython\\core\\interactiveshell.py:343\u001b[39m, in \u001b[36m_modified_open\u001b[39m\u001b[34m(file, *args, **kwargs)\u001b[39m\n\u001b[32m    336\u001b[39m \u001b[38;5;28;01mif\u001b[39;00m file \u001b[38;5;129;01min\u001b[39;00m {\u001b[32m0\u001b[39m, \u001b[32m1\u001b[39m, \u001b[32m2\u001b[39m}:\n\u001b[32m    337\u001b[39m     \u001b[38;5;28;01mraise\u001b[39;00m \u001b[38;5;167;01mValueError\u001b[39;00m(\n\u001b[32m    338\u001b[39m         \u001b[33mf\u001b[39m\u001b[33m\"\u001b[39m\u001b[33mIPython won\u001b[39m\u001b[33m'\u001b[39m\u001b[33mt let you open fd=\u001b[39m\u001b[38;5;132;01m{\u001b[39;00mfile\u001b[38;5;132;01m}\u001b[39;00m\u001b[33m by default \u001b[39m\u001b[33m\"\u001b[39m\n\u001b[32m    339\u001b[39m         \u001b[33m\"\u001b[39m\u001b[33mas it is likely to crash IPython. If you know what you are doing, \u001b[39m\u001b[33m\"\u001b[39m\n\u001b[32m    340\u001b[39m         \u001b[33m\"\u001b[39m\u001b[33myou can use builtins\u001b[39m\u001b[33m'\u001b[39m\u001b[33m open.\u001b[39m\u001b[33m\"\u001b[39m\n\u001b[32m    341\u001b[39m     )\n\u001b[32m--> \u001b[39m\u001b[32m343\u001b[39m \u001b[38;5;28;01mreturn\u001b[39;00m \u001b[43mio_open\u001b[49m\u001b[43m(\u001b[49m\u001b[43mfile\u001b[49m\u001b[43m,\u001b[49m\u001b[43m \u001b[49m\u001b[43m*\u001b[49m\u001b[43margs\u001b[49m\u001b[43m,\u001b[49m\u001b[43m \u001b[49m\u001b[43m*\u001b[49m\u001b[43m*\u001b[49m\u001b[43mkwargs\u001b[49m\u001b[43m)\u001b[49m\n",
      "\u001b[36mFile \u001b[39m\u001b[32m<frozen codecs>:309\u001b[39m, in \u001b[36m__init__\u001b[39m\u001b[34m(self, errors)\u001b[39m\n",
      "\u001b[31mKeyboardInterrupt\u001b[39m: "
     ]
    }
   ],
   "source": [
    "import os\n",
    "import json\n",
    "import pandas as pd\n",
    "from tqdm import tqdm\n",
    "\n",
    "# ✅ JSON 파일들이 들어있는 폴더 경로 지정\n",
    "json_dir = \"C:/new\"  # ← 여기 경로만 네 JSON 폴더 위치로 바꿔줘\n",
    "\n",
    "# ✅ 결과 저장 리스트\n",
    "records = []\n",
    "\n",
    "# ✅ 모든 JSON 파일 반복 처리\n",
    "for fname in tqdm(os.listdir(json_dir)):\n",
    "    if not fname.endswith(\".json\"):\n",
    "        continue\n",
    "\n",
    "    fpath = os.path.join(json_dir, fname)\n",
    "\n",
    "    with open(fpath, \"r\", encoding=\"utf-8\") as f:\n",
    "        try:\n",
    "            data = json.load(f)\n",
    "            ds = data['dataSet']\n",
    "            info = ds['info']\n",
    "            question_text = ds['question']['raw'].get('text', '')\n",
    "            answer_raw = ds['answer']['raw']\n",
    "            summary_data = ds['answer'].get('summary', {})\n",
    "            emotion = ds['answer'].get('emotion', [])\n",
    "            intent = ds['answer'].get('intent', [])\n",
    "\n",
    "            record = {\n",
    "                \"date\": info.get(\"date\", \"\"),\n",
    "                \"occupation\": info.get(\"occupation\", \"\"),\n",
    "                \"channel\": info.get(\"channel\", \"\"),\n",
    "                \"place\": info.get(\"place\", \"\"),\n",
    "                \"gender\": info.get(\"gender\", \"\"),\n",
    "                \"ageRange\": info.get(\"ageRange\", \"\"),\n",
    "                \"experience\": info.get(\"experience\", \"\"),\n",
    "                \"question_text\": question_text,\n",
    "                \"answer_text\": answer_raw.get(\"text\", \"\"),\n",
    "                \"answer_word_count\": answer_raw.get(\"wordCount\", 0),\n",
    "                \"summary_text\": summary_data.get(\"text\", \"\"),\n",
    "                \"summary_word_count\": summary_data.get(\"wordCount\", 0),\n",
    "                \"emotion\": emotion[0][\"expression\"] if emotion else \"\",\n",
    "                \"intent\": intent[0][\"expression\"] if intent else \"\"\n",
    "            }\n",
    "\n",
    "            records.append(record)\n",
    "\n",
    "        except Exception as e:\n",
    "            print(f\"❗ Error in file {fname}: {e}\")\n",
    "\n",
    "# ✅ 판다스 DataFrame으로 변환\n",
    "df = pd.DataFrame(records)\n",
    "\n",
    "# ✅ 미리보기\n",
    "print(df.head())\n",
    "\n",
    "# (선택) 저장하고 싶다면:\n",
    "df.to_csv(\"summary_new_dataset.csv\", index=False, encoding=\"utf-8-sig\")\n"
   ]
  },
  {
   "cell_type": "code",
   "execution_count": null,
   "id": "8b04b72b",
   "metadata": {},
   "outputs": [
    {
     "name": "stderr",
     "output_type": "stream",
     "text": [
      "100%|██████████| 9167/9167 [01:58<00:00, 77.45it/s] "
     ]
    },
    {
     "name": "stdout",
     "output_type": "stream",
     "text": [
      "       date occupation channel   place  gender ageRange   experience  \\\n",
      "0  20230116        ARD    MOCK  ONLINE  FEMALE    35-44  EXPERIENCED   \n",
      "1  20230116        ARD    MOCK  ONLINE  FEMALE    35-44  EXPERIENCED   \n",
      "2  20230116        ARD    MOCK  ONLINE  FEMALE    35-44  EXPERIENCED   \n",
      "3  20230116        ARD    MOCK  ONLINE  FEMALE    35-44  EXPERIENCED   \n",
      "4  20230116        ARD    MOCK  ONLINE  FEMALE    35-44  EXPERIENCED   \n",
      "\n",
      "                                       question_text  \\\n",
      "0                        디자이너로서 앞으로의 목표에 관해서 설명해 주세요   \n",
      "1  협업을 할 때 사교성이 좋은 편인지 궁금합니다 그리고 또 사교성을 키우기 위해 어떤...   \n",
      "2  지원자님이 태어나서 지금까지 한 일들 가운데 가장 후회했던 일이 무엇인가요 한 가지...   \n",
      "3  대학 생활을 보내면서 가장 힘들었던 경험은 무엇인가요 그것을 어떻게 극복하였는지 예...   \n",
      "4                                  가장 자신있는 작업은 무엇일까요   \n",
      "\n",
      "                                         answer_text  answer_word_count  \\\n",
      "0  저는 디자이너로서 어 많은 경험들을 쌓아서 그것들을 토대로 제 개인 브랜드를 런칭하...                 63   \n",
      "1  저의 큰 단점이라고 할 수 있는데요. 저는 굉장히 성격이 내성적이고 처음 본 사람하...                 80   \n",
      "2  어렸을 때 굉장히 친하게 지낸 친구가 있습니다. 어 제일 친하다고 생각했었고 모든 ...                102   \n",
      "3  저는 등록금을 마련하는 게 가장 힘들었습니다. 집에서 저의 대학 등록금을 마련해 줄...                102   \n",
      "4  저는 손으로 만드는 것은 다 자신 있습니다. 깊게 배우지 않아도 어 뭔가를 만드는 ...                 52   \n",
      "\n",
      "                                        summary_text  summary_word_count  \\\n",
      "0  저는 디자이너로서 경험들을 토대로 제 개인 브랜드를 런칭하는 게 목표입니다. 그 브...                  28   \n",
      "1  내성적이고 낯가림이 심한 제 성격은 협업할 때 겉도는 편이지만 팀원들에게 좀 더 적...                  25   \n",
      "2  어릴적부터 친했던 친구가 있었는데, 성인이 되고 나서 그 친구와의 사이가 멀어지고 ...                  33   \n",
      "3  저는 대학 등록금을 마련하는 게 가장 힘들었습니다. 아르바이트를 병행하며 생활비를 ...                  38   \n",
      "4  처음 접하는 분야라도 손으로 만드는 작업이라면 마음 편하게 할 수 있고 두려움이 없...                  22   \n",
      "\n",
      "   emotion     intent  \n",
      "0                      \n",
      "1  n-shame   c_person  \n",
      "2                      \n",
      "3           c_private  \n",
      "4                      \n"
     ]
    },
    {
     "name": "stderr",
     "output_type": "stream",
     "text": [
      "\n"
     ]
    }
   ],
   "source": [
    "import os\n",
    "import json\n",
    "import pandas as pd\n",
    "from tqdm import tqdm\n",
    "\n",
    "# ✅ JSON 파일들이 들어있는 폴더 경로 지정\n",
    "json_dir1 = \"C:/experience\"  # ← 여기 경로만 네 JSON 폴더 위치로 바꿔줘\n",
    "\n",
    "# ✅ 결과 저장 리스트\n",
    "records = []\n",
    "\n",
    "# ✅ 모든 JSON 파일 반복 처리\n",
    "for fname in tqdm(os.listdir(json_dir1)):\n",
    "    if not fname.endswith(\".json\"):\n",
    "        continue\n",
    "\n",
    "    fpath = os.path.join(json_dir1, fname)\n",
    "\n",
    "    with open(fpath, \"r\", encoding=\"utf-8\") as f:\n",
    "        try:\n",
    "            data = json.load(f)\n",
    "            ds = data['dataSet']\n",
    "            info = ds['info']\n",
    "            question_text = ds['question']['raw'].get('text', '')\n",
    "            answer_raw = ds['answer']['raw']\n",
    "            summary_data = ds['answer'].get('summary', {})\n",
    "            emotion = ds['answer'].get('emotion', [])\n",
    "            intent = ds['answer'].get('intent', [])\n",
    "\n",
    "            record = {\n",
    "                \"date\": info.get(\"date\", \"\"),\n",
    "                \"occupation\": info.get(\"occupation\", \"\"),\n",
    "                \"channel\": info.get(\"channel\", \"\"),\n",
    "                \"place\": info.get(\"place\", \"\"),\n",
    "                \"gender\": info.get(\"gender\", \"\"),\n",
    "                \"ageRange\": info.get(\"ageRange\", \"\"),\n",
    "                \"experience\": info.get(\"experience\", \"\"),\n",
    "                \"question_text\": question_text,\n",
    "                \"answer_text\": answer_raw.get(\"text\", \"\"),\n",
    "                \"answer_word_count\": answer_raw.get(\"wordCount\", 0),\n",
    "                \"summary_text\": summary_data.get(\"text\", \"\"),\n",
    "                \"summary_word_count\": summary_data.get(\"wordCount\", 0),\n",
    "                \"emotion\": emotion[0][\"expression\"] if emotion else \"\",\n",
    "                \"intent\": intent[0][\"expression\"] if intent else \"\"\n",
    "            }\n",
    "\n",
    "            records.append(record)\n",
    "\n",
    "        except Exception as e:\n",
    "            print(f\"❗ Error in file {fname}: {e}\")\n",
    "\n",
    "# ✅ 판다스 DataFrame으로 변환\n",
    "df1 = pd.DataFrame(records)\n",
    "\n",
    "# ✅ 미리보기\n",
    "print(df1.head())\n",
    "\n",
    "# (선택) 저장하고 싶다면:\n",
    "df1.to_csv(\"summary_experience_dataset.csv\", index=False, encoding=\"utf-8-sig\")"
   ]
  },
  {
   "cell_type": "code",
   "execution_count": 1,
   "id": "79607f61",
   "metadata": {},
   "outputs": [
    {
     "name": "stderr",
     "output_type": "stream",
     "text": [
      "c:\\Users\\conet\\miniforge3\\envs\\myenv\\Lib\\site-packages\\tqdm\\auto.py:21: TqdmWarning: IProgress not found. Please update jupyter and ipywidgets. See https://ipywidgets.readthedocs.io/en/stable/user_install.html\n",
      "  from .autonotebook import tqdm as notebook_tqdm\n",
      "You passed along `num_labels=3` with an incompatible id to label map: {'0': 'NEGATIVE', '1': 'POSITIVE'}. The number of labels will be overwritten to 2.\n"
     ]
    },
    {
     "name": "stdout",
     "output_type": "stream",
     "text": [
      "                                         answer_text  \\\n",
      "0  저는 디자이너로서 어 많은 경험들을 쌓아서 그것들을 토대로 제 개인 브랜드를 런칭하...   \n",
      "1  저의 큰 단점이라고 할 수 있는데요. 저는 굉장히 성격이 내성적이고 처음 본 사람하...   \n",
      "2  어렸을 때 굉장히 친하게 지낸 친구가 있습니다. 어 제일 친하다고 생각했었고 모든 ...   \n",
      "3  저는 등록금을 마련하는 게 가장 힘들었습니다. 집에서 저의 대학 등록금을 마련해 줄...   \n",
      "4  저는 손으로 만드는 것은 다 자신 있습니다. 깊게 배우지 않아도 어 뭔가를 만드는 ...   \n",
      "\n",
      "                                        summary_text      source  \n",
      "0  저는 디자이너로서 경험들을 토대로 제 개인 브랜드를 런칭하는 게 목표입니다. 그 브...  experience  \n",
      "1  내성적이고 낯가림이 심한 제 성격은 협업할 때 겉도는 편이지만 팀원들에게 좀 더 적...  experience  \n",
      "2  어릴적부터 친했던 친구가 있었는데, 성인이 되고 나서 그 친구와의 사이가 멀어지고 ...  experience  \n",
      "3  저는 대학 등록금을 마련하는 게 가장 힘들었습니다. 아르바이트를 병행하며 생활비를 ...  experience  \n",
      "4  처음 접하는 분야라도 손으로 만드는 작업이라면 마음 편하게 할 수 있고 두려움이 없...  experience  \n"
     ]
    }
   ],
   "source": [
    "import pandas as pd\n",
    "from transformers import PreTrainedTokenizerFast, BartForConditionalGeneration\n",
    "from datasets import Dataset\n",
    "model_name = \"digit82/kobart-summarization\"\n",
    "\n",
    "tokenizer = PreTrainedTokenizerFast.from_pretrained(model_name)\n",
    "model = BartForConditionalGeneration.from_pretrained(model_name)\n",
    "# pandas → HuggingFace Dataset 변환\n",
    "df_exp = pd.read_csv(r\"C:/나이스/summary_experience_dataset.csv\")\n",
    "df_new = pd.read_csv(r\"C:/나이스/summary_new_dataset.csv\")\n",
    "\n",
    "# source 구분 컬럼 추가\n",
    "df_exp_reduced = df_exp[[\"answer_text\", \"summary_text\"]].copy()\n",
    "df_exp_reduced[\"source\"] = \"experience\"\n",
    "\n",
    "df_new_reduced = df_new[[\"answer_text\", \"summary_text\"]].copy()\n",
    "df_new_reduced[\"source\"] = \"new\"\n",
    "\n",
    "# 3. 두 데이터프레임 병합\n",
    "df_combined = pd.concat([df_exp_reduced, df_new_reduced], ignore_index=True)\n",
    "\n",
    "print(df_combined.head())\n"
   ]
  },
  {
   "cell_type": "code",
   "execution_count": 2,
   "id": "2aa31d82",
   "metadata": {},
   "outputs": [
    {
     "name": "stderr",
     "output_type": "stream",
     "text": [
      "Map:   0%|          | 0/68074 [00:00<?, ? examples/s]c:\\Users\\conet\\miniforge3\\envs\\myenv\\Lib\\site-packages\\transformers\\tokenization_utils_base.py:3951: UserWarning: `as_target_tokenizer` is deprecated and will be removed in v5 of Transformers. You can tokenize your labels by using the argument `text_target` of the regular `__call__` method (either in the same call as your input texts if you use the same keyword arguments, or in a separate call.\n",
      "  warnings.warn(\n",
      "Map: 100%|██████████| 68074/68074 [00:17<00:00, 3788.42 examples/s]\n"
     ]
    }
   ],
   "source": [
    "dataset = Dataset.from_pandas(df_combined[[\"answer_text\", \"summary_text\"]])\n",
    "def tokenize(example):\n",
    "    model_input = tokenizer(example[\"answer_text\"], max_length=512, padding=\"max_length\", truncation=True)\n",
    "    with tokenizer.as_target_tokenizer():\n",
    "        labels = tokenizer(example[\"summary_text\"], max_length=128, padding=\"max_length\", truncation=True)\n",
    "    model_input[\"labels\"] = labels[\"input_ids\"]\n",
    "    return model_input\n",
    "\n",
    "tokenized_dataset = dataset.map(tokenize, batched=True)"
   ]
  },
  {
   "cell_type": "code",
   "execution_count": 3,
   "id": "3837518a",
   "metadata": {},
   "outputs": [
    {
     "name": "stderr",
     "output_type": "stream",
     "text": [
      "C:\\Users\\Public\\Documents\\ESTsoft\\CreatorTemp\\ipykernel_10052\\1742610426.py:13: FutureWarning: `tokenizer` is deprecated and will be removed in version 5.0.0 for `Trainer.__init__`. Use `processing_class` instead.\n",
      "  trainer = Trainer(\n"
     ]
    }
   ],
   "source": [
    "from transformers import TrainingArguments, Trainer\n",
    "\n",
    "training_args = TrainingArguments(\n",
    "    output_dir=\"./kobart-summary\",\n",
    "    per_device_train_batch_size=4,\n",
    "    num_train_epochs=3,\n",
    "    logging_dir=\"./logs\",\n",
    "    logging_steps=50,\n",
    "    save_steps=500,  # 올바른 값\n",
    "    eval_steps=200                # 평가 간격 설정도 필요\n",
    ")\n",
    "\n",
    "trainer = Trainer(\n",
    "    model=model,\n",
    "    args=training_args,\n",
    "    train_dataset=tokenized_dataset,\n",
    "    tokenizer=tokenizer\n",
    ")"
   ]
  },
  {
   "cell_type": "code",
   "execution_count": 4,
   "id": "aefdc15f",
   "metadata": {},
   "outputs": [
    {
     "name": "stdout",
     "output_type": "stream",
     "text": [
      "True\n"
     ]
    }
   ],
   "source": [
    "import torch\n",
    "device = torch.device(\"cuda\" if torch.cuda.is_available() else \"cpu\")\n",
    "print(torch.cuda.is_available())"
   ]
  },
  {
   "cell_type": "code",
   "execution_count": 5,
   "id": "08f74a70",
   "metadata": {},
   "outputs": [
    {
     "name": "stderr",
     "output_type": "stream",
     "text": [
      "You passed along `num_labels=3` with an incompatible id to label map: {'0': 'NEGATIVE', '1': 'POSITIVE'}. The number of labels will be overwritten to 2.\n"
     ]
    },
    {
     "ename": "TypeError",
     "evalue": "TrainingArguments.__init__() got an unexpected keyword argument 'evaluation_strategy'",
     "output_type": "error",
     "traceback": [
      "\u001b[31m---------------------------------------------------------------------------\u001b[39m",
      "\u001b[31mTypeError\u001b[39m                                 Traceback (most recent call last)",
      "\u001b[36mCell\u001b[39m\u001b[36m \u001b[39m\u001b[32mIn[5]\u001b[39m\u001b[32m, line 17\u001b[39m\n\u001b[32m     12\u001b[39m data_collator = DataCollatorForSeq2Seq(\n\u001b[32m     13\u001b[39m     tokenizer=tokenizer,\n\u001b[32m     14\u001b[39m     model=model\n\u001b[32m     15\u001b[39m )\n\u001b[32m     16\u001b[39m \u001b[38;5;66;03m# 3. TrainingArguments 정의\u001b[39;00m\n\u001b[32m---> \u001b[39m\u001b[32m17\u001b[39m training_args = \u001b[43mTrainingArguments\u001b[49m\u001b[43m(\u001b[49m\n\u001b[32m     18\u001b[39m \u001b[43m    \u001b[49m\u001b[43moutput_dir\u001b[49m\u001b[43m=\u001b[49m\u001b[33;43m\"\u001b[39;49m\u001b[33;43m./kobart-summary\u001b[39;49m\u001b[33;43m\"\u001b[39;49m\u001b[43m,\u001b[49m\n\u001b[32m     19\u001b[39m \u001b[43m    \u001b[49m\u001b[43mper_device_train_batch_size\u001b[49m\u001b[43m=\u001b[49m\u001b[32;43m4\u001b[39;49m\u001b[43m,\u001b[49m\n\u001b[32m     20\u001b[39m \u001b[43m    \u001b[49m\u001b[43mnum_train_epochs\u001b[49m\u001b[43m=\u001b[49m\u001b[32;43m10\u001b[39;49m\u001b[43m,\u001b[49m\u001b[43m  \u001b[49m\u001b[38;5;66;43;03m# 최대 에폭수\u001b[39;49;00m\n\u001b[32m     21\u001b[39m \u001b[43m    \u001b[49m\u001b[43mlogging_dir\u001b[49m\u001b[43m=\u001b[49m\u001b[33;43m\"\u001b[39;49m\u001b[33;43m./logs\u001b[39;49m\u001b[33;43m\"\u001b[39;49m\u001b[43m,\u001b[49m\n\u001b[32m     22\u001b[39m \u001b[43m    \u001b[49m\u001b[43mlogging_steps\u001b[49m\u001b[43m=\u001b[49m\u001b[32;43m50\u001b[39;49m\u001b[43m,\u001b[49m\n\u001b[32m     23\u001b[39m \u001b[43m    \u001b[49m\u001b[43msave_steps\u001b[49m\u001b[43m=\u001b[49m\u001b[32;43m200\u001b[39;49m\u001b[43m,\u001b[49m\n\u001b[32m     24\u001b[39m \u001b[43m    \u001b[49m\u001b[43meval_steps\u001b[49m\u001b[43m=\u001b[49m\u001b[32;43m200\u001b[39;49m\u001b[43m,\u001b[49m\n\u001b[32m     25\u001b[39m \u001b[43m    \u001b[49m\u001b[43mevaluation_strategy\u001b[49m\u001b[43m=\u001b[49m\u001b[33;43m\"\u001b[39;49m\u001b[33;43msteps\u001b[39;49m\u001b[33;43m\"\u001b[39;49m\u001b[43m,\u001b[49m\u001b[43m  \u001b[49m\u001b[38;5;66;43;03m# 이거 필수!\u001b[39;49;00m\n\u001b[32m     26\u001b[39m \u001b[43m    \u001b[49m\u001b[43msave_total_limit\u001b[49m\u001b[43m=\u001b[49m\u001b[32;43m1\u001b[39;49m\u001b[43m,\u001b[49m\n\u001b[32m     27\u001b[39m \u001b[43m    \u001b[49m\u001b[43mload_best_model_at_end\u001b[49m\u001b[43m=\u001b[49m\u001b[38;5;28;43;01mTrue\u001b[39;49;00m\u001b[43m,\u001b[49m\n\u001b[32m     28\u001b[39m \u001b[43m    \u001b[49m\u001b[43mmetric_for_best_model\u001b[49m\u001b[43m=\u001b[49m\u001b[33;43m\"\u001b[39;49m\u001b[33;43meval_loss\u001b[39;49m\u001b[33;43m\"\u001b[39;49m\u001b[43m,\u001b[49m\u001b[43m  \u001b[49m\u001b[38;5;66;43;03m# 여기 기준으로 early stop 판단\u001b[39;49;00m\n\u001b[32m     29\u001b[39m \u001b[43m    \u001b[49m\u001b[43mgreater_is_better\u001b[49m\u001b[43m=\u001b[49m\u001b[38;5;28;43;01mFalse\u001b[39;49;00m\u001b[43m             \u001b[49m\u001b[38;5;66;43;03m# 낮을수록 좋은 경우 False\u001b[39;49;00m\n\u001b[32m     30\u001b[39m \u001b[43m)\u001b[49m\n\u001b[32m     32\u001b[39m \u001b[38;5;66;03m# 4. Trainer 정의\u001b[39;00m\n\u001b[32m     33\u001b[39m trainer = Trainer(\n\u001b[32m     34\u001b[39m     model=model,\n\u001b[32m     35\u001b[39m     args=training_args,\n\u001b[32m   (...)\u001b[39m\u001b[32m     39\u001b[39m     callbacks=[EarlyStoppingCallback(early_stopping_patience=\u001b[32m2\u001b[39m)]\n\u001b[32m     40\u001b[39m )\n",
      "\u001b[31mTypeError\u001b[39m: TrainingArguments.__init__() got an unexpected keyword argument 'evaluation_strategy'"
     ]
    }
   ],
   "source": [
    "from transformers import BartForConditionalGeneration, PreTrainedTokenizerFast, Trainer, TrainingArguments\n",
    "import torch\n",
    "from transformers import EarlyStoppingCallback\n",
    "# 1. CUDA 디바이스 설정\n",
    "device = torch.device(\"cuda\" if torch.cuda.is_available() else \"cpu\")\n",
    "\n",
    "# 2. tokenizer와 model 로드\n",
    "tokenizer = PreTrainedTokenizerFast.from_pretrained(\"digit82/kobart-summarization\")\n",
    "model = BartForConditionalGeneration.from_pretrained(\"digit82/kobart-summarization\").to(device)\n",
    "from transformers import DataCollatorForSeq2Seq\n",
    "\n",
    "data_collator = DataCollatorForSeq2Seq(\n",
    "    tokenizer=tokenizer,\n",
    "    model=model\n",
    ")\n",
    "# 3. TrainingArguments 정의\n",
    "training_args = TrainingArguments(\n",
    "    output_dir=\"./kobart-summary\",\n",
    "    per_device_train_batch_size=4,\n",
    "    num_train_epochs=10,  # 최대 에폭수\n",
    "    logging_dir=\"./logs\",\n",
    "    logging_steps=50,\n",
    "    save_steps=200,\n",
    "    eval_steps=200,\n",
    "    evaluation_strategy=\"steps\",  # 이거 필수!\n",
    "    save_total_limit=1,\n",
    "    load_best_model_at_end=True,\n",
    "    metric_for_best_model=\"eval_loss\",  # 여기 기준으로 early stop 판단\n",
    "    greater_is_better=False             # 낮을수록 좋은 경우 False\n",
    ")\n",
    "\n",
    "# 4. Trainer 정의\n",
    "trainer = Trainer(\n",
    "    model=model,\n",
    "    args=training_args,\n",
    "    train_dataset=tokenized_dataset,  # ✅ 여기 반드시 tokenized된 dataset\n",
    "    data_collator=data_collator,\n",
    "    tokenizer=tokenizer,\n",
    "    callbacks=[EarlyStoppingCallback(early_stopping_patience=2)]\n",
    ")\n",
    "\n",
    "# 5. 학습 실행\n",
    "trainer.train()\n"
   ]
  },
  {
   "cell_type": "code",
   "execution_count": 6,
   "id": "f11bb64d",
   "metadata": {},
   "outputs": [
    {
     "name": "stdout",
     "output_type": "stream",
     "text": [
      "c:\\Users\\conet\\miniforge3\\envs\\myenv\\Lib\\site-packages\\transformers\\__init__.py\n",
      "4.53.3\n"
     ]
    }
   ],
   "source": [
    "import transformers\n",
    "print(transformers.__file__)\n",
    "print(transformers.__version__)"
   ]
  },
  {
   "cell_type": "code",
   "execution_count": null,
   "id": "3946c94f",
   "metadata": {},
   "outputs": [],
   "source": []
  }
 ],
 "metadata": {
  "kernelspec": {
   "display_name": "myenv",
   "language": "python",
   "name": "python3"
  },
  "language_info": {
   "codemirror_mode": {
    "name": "ipython",
    "version": 3
   },
   "file_extension": ".py",
   "mimetype": "text/x-python",
   "name": "python",
   "nbconvert_exporter": "python",
   "pygments_lexer": "ipython3",
   "version": "3.12.11"
  }
 },
 "nbformat": 4,
 "nbformat_minor": 5
}
